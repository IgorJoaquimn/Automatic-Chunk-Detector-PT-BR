{
 "cells": [
  {
   "cell_type": "code",
   "execution_count": 1,
   "metadata": {},
   "outputs": [],
   "source": [
    "import pandas as pd\n",
    "import numpy as np\n",
    "import matplotlib.pyplot as plt\n",
    "from nltk.corpus import machado"
   ]
  },
  {
   "cell_type": "code",
   "execution_count": 1,
   "metadata": {},
   "outputs": [],
   "source": [
    "import os\n",
    "# Create the directory if it doesn't exist\n",
    "directory = '../data/machado'\n",
    "if not os.path.exists(directory):\n",
    "    os.makedirs(directory)"
   ]
  },
  {
   "cell_type": "code",
   "execution_count": 3,
   "metadata": {},
   "outputs": [],
   "source": [
    "# Save all texts from Machado corpus\n",
    "for fileid in machado.fileids():\n",
    "\n",
    "    dirr = fileid.split(\"/\")[0]\n",
    "    if not os.path.exists(directory+ \"/\" + dirr):\n",
    "        os.makedirs(directory+ \"/\" + dirr)\n",
    "    with open(os.path.join(directory, fileid), 'w', encoding='utf-8') as file:\n",
    "        file.write(machado.raw(fileid))"
   ]
  },
  {
   "cell_type": "code",
   "execution_count": 4,
   "metadata": {},
   "outputs": [],
   "source": [
    "sample = \"../data/machado/critica/mact13.txt\"\n",
    "# Read the contents of the file\n",
    "with open(sample, 'r', encoding='utf-8') as file:\n",
    "    text = file.read()\n",
    "\n",
    "# Split the text into paragraphs\n",
    "paragraphs = text.split('\\n\\n')  # Assuming paragraphs are separated by two newline characters"
   ]
  },
  {
   "cell_type": "code",
   "execution_count": 5,
   "metadata": {},
   "outputs": [
    {
     "data": {
      "text/plain": [
       "['Crítica, O ideal do crítico, 1865',\n",
       " 'O ideal do crítico',\n",
       " 'Texto-Fonte:',\n",
       " 'Obra Completa de Machado de Assis,',\n",
       " 'Rio\\nde Janeiro: Nova Aguilar, vol. III, 1994.',\n",
       " 'Publicado\\noriginalmente no Diário do Rio de Janeiro, 8/10/1865.',\n",
       " 'Exercer a crítica, afigura-se a\\nalguns que é uma fácil tarefa, como a outros parece igualmente fácil a tarefa\\ndo legislador; mas, para a representação literária, como para a representação política,\\né preciso ter alguma coisa mais que um simples desejo de falar à multidão.\\nInfelizmente é a opinião contrária que domina, e a crítica, desamparada pelos\\nesclarecidos, é exercida pelos incompetentes.',\n",
       " 'São\\nóbvias as conseqüências de uma tal situação. As musas, privadas de um farol\\nseguro, correm o risco de naufragar nos mares sempre desconhecidos da\\npublicidade. O erro produzirá o erro; amortecidos os nobres estímulos, abatidas\\nas legítimas ambições, só um tribunal será acatado, e esse, se é o mais\\nnumeroso, é também o menos decisivo. O poeta oscilará entre as sentenças mal\\nconcebidas do crítico, e os arestos caprichosos da opinião; nenhuma luz, nenhum\\nconselho, nada lhe mostrará o caminho que deve seguir, \\x97 e a morte próxima será\\no prêmio definitivo das suas fadigas e das suas lutas.',\n",
       " 'Chegamos\\njá a estas tristes conseqüências? Não quero proferir juízo, que seria\\ntemerário, mas qualquer pode notar com que largos intervalos aparecem as boas\\nobras, e como são raras as publicações seladas por um talento verdadeiro.\\nQuereis mudar esta situação aflitiva? Estabelecei a crítica, mas a crítica\\nfecunda, e não a estéril, que nos aborrece e nos mata, que não reflete nem\\ndiscute, que abate por capricho ou levanta por vaidade; estabelecei a crítica\\npensadora, sincera, perseverante, elevada, \\x97 será esse o meio de reerguer os\\nânimos, promover os estímulos, guiar os estreantes, corrigir os talentos\\nfeitos; condenai o ódio, a camaradagem e a indiferença, \\x97 essas três chagas da\\ncrítica de hoje, \\x97 ponde em lugar deles, a sinceridade, a solicitude e a\\njustiça, \\x97 é só assim que teremos uma grande literatura.',\n",
       " 'É claro\\nque a essa crítica, destinada a produzir tamanha reforma, deve-se exigir as\\ncondições e as virtudes que faltam à crítica dominante; \\x97 e para melhor definir\\no meu pensamento, eis o que eu exigiria no crítico do futuro.']"
      ]
     },
     "execution_count": 5,
     "metadata": {},
     "output_type": "execute_result"
    }
   ],
   "source": [
    "paragraphs[:10]"
   ]
  },
  {
   "cell_type": "code",
   "execution_count": 6,
   "metadata": {},
   "outputs": [],
   "source": [
    "import re\n",
    "\"\"\"\n",
    "Count the number of sentences in a paragraph.\n",
    "\n",
    "Explanation of the regular expression used:\n",
    "- (?<!\\w\\.\\w.): Negative lookbehind assertion to ensure not matching periods within abbreviations.\n",
    "- (?<![A-Z][a-z]\\.): Negative lookbehind assertion to avoid matching periods in titles or abbreviations.\n",
    "- (?<=\\.|\\?): Positive lookbehind assertion for matching periods or question marks marking the end of a sentence.\n",
    "- \\s: Matches any whitespace character after a period or question mark.\n",
    "\"\"\"\n",
    "# Regular expression pattern for splitting sentences\n",
    "sentence_pattern = r'(?<!\\w\\.\\w.)(?<![A-Z][a-z]\\.)(?<=\\.|\\?)\\s'\n",
    "\n",
    "def count_sentences(paragraph):\n",
    "    # Split the paragraph into sentences using regex\n",
    "    sentences = re.split(sentence_pattern, paragraph)\n",
    "    # Return the count of sentences\n",
    "    return len(sentences)\n",
    "    \n",
    "filtered_paragraphs = [paragraph for paragraph in paragraphs if count_sentences(paragraph) > 2]\n",
    "filtered_paragraphs = [paragraph.replace(\"\\n\", \" \") for paragraph in filtered_paragraphs]"
   ]
  },
  {
   "cell_type": "code",
   "execution_count": 7,
   "metadata": {},
   "outputs": [
    {
     "data": {
      "text/plain": [
       "['São óbvias as conseqüências de uma tal situação. As musas, privadas de um farol seguro, correm o risco de naufragar nos mares sempre desconhecidos da publicidade. O erro produzirá o erro; amortecidos os nobres estímulos, abatidas as legítimas ambições, só um tribunal será acatado, e esse, se é o mais numeroso, é também o menos decisivo. O poeta oscilará entre as sentenças mal concebidas do crítico, e os arestos caprichosos da opinião; nenhuma luz, nenhum conselho, nada lhe mostrará o caminho que deve seguir, \\x97 e a morte próxima será o prêmio definitivo das suas fadigas e das suas lutas.',\n",
       " 'Chegamos já a estas tristes conseqüências? Não quero proferir juízo, que seria temerário, mas qualquer pode notar com que largos intervalos aparecem as boas obras, e como são raras as publicações seladas por um talento verdadeiro. Quereis mudar esta situação aflitiva? Estabelecei a crítica, mas a crítica fecunda, e não a estéril, que nos aborrece e nos mata, que não reflete nem discute, que abate por capricho ou levanta por vaidade; estabelecei a crítica pensadora, sincera, perseverante, elevada, \\x97 será esse o meio de reerguer os ânimos, promover os estímulos, guiar os estreantes, corrigir os talentos feitos; condenai o ódio, a camaradagem e a indiferença, \\x97 essas três chagas da crítica de hoje, \\x97 ponde em lugar deles, a sinceridade, a solicitude e a justiça, \\x97 é só assim que teremos uma grande literatura.',\n",
       " 'O crítico atualmente aceito não prima pela ciência literária; creio até que uma das condições para desempenhar tão curioso papel, é despreocupar-se de todas as questões que entendem com o domínio da imaginação. Outra, entretanto, deve ser a marcha do crítico; longe de resumir em duas linhas, \\x97 cujas frases já o tipógrafo as tem feitas, \\x97 o julgamento de uma obra, cumpre-lhe meditar profundamente sobre ela, procurar-lhe o sentido íntimo, aplicar-lhe as leis poéticas, ver enfim até que ponto a imaginação e a verdade conferenciaram para aquela produção. Deste modo as conclusões do crítico servem tanto à obra concluída, como à obra em embrião. Crítica é análise, \\x97 a crítica que não analisa é a mais cômoda, mas não pode pretender a ser fecunda.',\n",
       " 'Não compreendo o crítico sem consciência. A ciência e a consciência, eis as duas condições principais para exercer a crítica. A crítica útil e verdadeira será aquela que, em vez de modelar as suas sentenças por um interesse, quer seja o interesse do ódio, quer o da adulação ou da simpatia, procure produzir unicamente os juízos da sua consciência. Ela deve ser sincera, sob pena de ser nula. Não lhe é dado defender nem os seus interesses pessoais, nem os alheios, mas somente a sua convicção, e a sua convicção, deve formar-se tão pura e tão alta, que não sofra a ação das circunstâncias externas. Pouco lhe deve importar as simpatias ou antipatias dos outros; um sorriso complacente, se pode ser recebido e retribuído com outro, não deve determinar, como a espada de Breno, o peso da balança; acima de tudo, dos sorrisos e das desatenções, está o dever de dizer a verdade, e em caso de dúvida, antes calá-la, que negá-la.',\n",
       " 'Das duas condições indicadas acima decorrem naturalmente outras, tão necessárias como elas, ao exercício da crítica. A coerência é uma dessas condições, e só pode praticá-la o crítico verdadeiramente consciencioso. Com efeito, se o crítico, na manifestação dos seus juízos, deixa-se impressionar por circunstâncias estranhas às questões literárias, há de cair freqüentemente na contradição, e os seus juízos de hoje serão a condenação das suas apreciações de ontem. Sem uma coerência perfeita, as suas sentenças perdem todo o vislumbre de autoridade, e abatendo-se à condição de ventoinha, movida ao sopro de todos os interesses e de todos os caprichos, o crítico fica sendo unicamente o oráculo dos seus inconscientes aduladores.',\n",
       " \"O crítico deve ser independente, \\x97 independente em tudo e de tudo, \\x97 independente da vaidade dos autores e da vaidade própria. Não deve curar de inviolabilidades literárias, nem de cegas adorações; mas também deve ser independente das sugestões do orgulho, e das imposições do amor próprio. A profissão do crítico deve ser uma luta constante contra todas essas dependências pessoais, que desautoram os seus juízos, sem deixar de perverter a opinião. Para que a crítica seja mestra, é preciso que seja imparcial, \\x97 armada contra a insuficiência dos seus amigos, solícita pelo mérito dos seus adversários, \\x97 e neste ponto, a melhor lição que eu poderia apresentar aos olhos do crítico, seria aquela expressão de Cícero, quando César mandava levantar as estátuas de Pompeu: \\x97 'É levantando as estátuas do teu inimigo que tu consolidas as tuas próprias estátuas'.\",\n",
       " 'É preciso que o crítico seja tolerante, mesmo no terreno das diferenças de escola: se as preferências do crítico são pela escola romântica, cumpre não condenar, só por isso, as obras-primas que a tradição clássica nos legou, nem as obras meditadas que a musa moderna inspira; do mesmo modo devem os clássicos fazer justiça às boas obras dos românticos e dos realistas, tão inteira justiça, como estes devem fazer às boas obras daqueles. Pode haver um homem de bem no corpo de um maometano, pode haver uma verdade na obra de um realista. A minha admiração pelo Cid não me fez obscurecer as belezas de Ruy Blas. A crítica que, para não ter o trabalho de meditar e aprofundar, se limitasse a uma proscrição em massa, seria a crítica da destruição e do aniquilamento.',\n",
       " 'Será necessário dizer que uma das condições da crítica deve ser a urbanidade? Uma crítica que, para a expressão das suas idéias, só encontra fórmulas ásperas, pode perder as esperanças de influir e dirigir. Para muita gente será esse o meio de provar independência; mas os olhos experimentados farão muito pouco caso de uma independência que precisa sair da sala para mostrar que existe.',\n",
       " 'Moderação e urbanidade na expressão, eis o melhor meio de convencer; não há outro que seja tão eficaz. Se a delicadeza das maneiras é um dever de todo homem que vive entre homens, com mais razão é um dever do crítico, e o crítico deve ser delicado por excelência. Como a sua obrigação é dizer a verdade, e dizê-la ao que há de mais suscetível neste mundo, que é a vaidade dos poetas, cumpre-lhe, a ele sobretudo, não esquecer nunca esse dever. De outro modo, o crítico passará o limite da discussão literária, para cair no terreno das questões pessoais; mudará o campo das idéias, em campo de palavras, de doestos, de recriminações, \\x97 se acaso uma boa dose de sangue frio, da parte do adversário, não tornar impossível esse espetáculo indecente.',\n",
       " 'Se esta reforma, que eu sonho, sem esperanças de uma realização próxima, viesse mudar a situação atual das coisas, que talentos novos! que novos escritos! que estímulos! que ambições! A arte tomaria novos aspectos aos olhos dos estreantes; as leis poéticas, \\x97 tão confundidas hoje, e tão caprichosas, \\x97 seriam as únicas pelas quais se aferisse o merecimento das produções, \\x97 e a literatura alimentada ainda hoje por algum talento corajoso e bem encaminhado, \\x97 veria nascer para ela um dia de florescimento e prosperidade. Tudo isso depende da crítica. Que ela apareça, convencida e resoluta, \\x97 e a sua obra será a melhor obra dos nossos dias. ']"
      ]
     },
     "execution_count": 7,
     "metadata": {},
     "output_type": "execute_result"
    }
   ],
   "source": [
    "filtered_paragraphs"
   ]
  },
  {
   "cell_type": "code",
   "execution_count": 8,
   "metadata": {},
   "outputs": [
    {
     "data": {
      "text/plain": [
       "['São óbvias as conseqüências de uma tal situação.',\n",
       " 'As musas, privadas de um farol seguro, correm o risco de naufragar nos mares sempre desconhecidos da publicidade.',\n",
       " 'O erro produzirá o erro; amortecidos os nobres estímulos, abatidas as legítimas ambições, só um tribunal será acatado, e esse, se é o mais numeroso, é também o menos decisivo.',\n",
       " 'O poeta oscilará entre as sentenças mal concebidas do crítico, e os arestos caprichosos da opinião; nenhuma luz, nenhum conselho, nada lhe mostrará o caminho que deve seguir, \\x97 e a morte próxima será o prêmio definitivo das suas fadigas e das suas lutas.']"
      ]
     },
     "execution_count": 8,
     "metadata": {},
     "output_type": "execute_result"
    }
   ],
   "source": [
    "re.split(sentence_pattern, filtered_paragraphs[0])"
   ]
  },
  {
   "cell_type": "code",
   "execution_count": 9,
   "metadata": {},
   "outputs": [],
   "source": [
    "def generate_pos_samples(filtered_paragraphs):\n",
    "    df = pd.DataFrame(columns=[\"Context\",\"Next_Sentence\",\"is_same_paragraph\"])\n",
    "    for paragraph in filtered_paragraphs:\n",
    "        sentences = re.split(sentence_pattern,paragraph)\n",
    "        for i,sentence in enumerate(sentences):\n",
    "            if(not len(sentence)):\n",
    "                continue\n",
    "            c = \"[CLS] \" + \"\".join(sentences[:i] +  sentences[i+1:])\n",
    "            s = \"[CLS] \"  + sentence\n",
    "            df = pd.concat([pd.DataFrame([[c,s,1]], columns=df.columns), df], ignore_index=True)\n",
    "    \n",
    "        for i in range(1,len(sentences)):\n",
    "            sentence = sentences[i]\n",
    "\n",
    "            if(not len(sentence)):\n",
    "                continue\n",
    "\n",
    "            c = \"[CLS] \" + sentences[i-1]\n",
    "            s = \"[CLS] \"  + sentences[i]\n",
    "            df = pd.concat([pd.DataFrame([[c,s,1]], columns=df.columns), df], ignore_index=True)\n",
    "    return df"
   ]
  },
  {
   "cell_type": "code",
   "execution_count": 10,
   "metadata": {},
   "outputs": [],
   "source": [
    "def generate_neg_samples(filtered_paragraphs,n_samples):\n",
    "    df = pd.DataFrame(columns=[\"Context\",\"Next_Sentence\",\"is_same_paragraph\"])\n",
    "    for _ in range(n_samples):\n",
    "        try: \n",
    "            context_size = np.random.randint(5) + 1\n",
    "            random_paragraphs = np.random.randint(0,len(filtered_paragraphs),context_size)\n",
    "            random_paragraphs = [filtered_paragraphs[i] for i in random_paragraphs]\n",
    "        \n",
    "            for paragraph_1 in random_paragraphs:\n",
    "                for paragraph_2 in random_paragraphs:\n",
    "                    if(paragraph_1 == paragraph_2):\n",
    "                        break\n",
    "                \n",
    "                    sentences_2 = re.split(sentence_pattern,paragraph_2)\n",
    "                    sentences_2 = [p for p in sentences_2 if len(p)]\n",
    "\n",
    "                    index  = np.random.randint(0,len(sentences_2))\n",
    "\n",
    "                    c = \"[CLS] \" + paragraph_1\n",
    "                    s = \"[CLS] \" + sentences_2[index]\n",
    "                    df = pd.concat([pd.DataFrame([[c,s,0]], columns=df.columns), df], ignore_index=True)\n",
    "                \n",
    "\n",
    "            for i in range(1,context_size):\n",
    "                paragraph_1 = re.split(sentence_pattern,random_paragraphs[i-1])\n",
    "                paragraph_2 = re.split(sentence_pattern,random_paragraphs[i])\n",
    "\n",
    "                paragraph_1 = [p for p in paragraph_1 if len(p)]\n",
    "                paragraph_2 = [p for p in paragraph_2 if len(p)]\n",
    "\n",
    "                first_index  = np.random.randint(0,len(paragraph_1))\n",
    "                second_index = np.random.randint(0,len(paragraph_2))\n",
    "\n",
    "                c = \"[CLS] \" + paragraph_1[first_index]\n",
    "                s = \"[CLS] \" + paragraph_2[second_index]\n",
    "                df = pd.concat([pd.DataFrame([[c,s,0]], columns=df.columns), df], ignore_index=True)\n",
    "        except:\n",
    "            continue\n",
    "    return df"
   ]
  },
  {
   "cell_type": "code",
   "execution_count": 11,
   "metadata": {},
   "outputs": [
    {
     "data": {
      "text/html": [
       "<div>\n",
       "<style scoped>\n",
       "    .dataframe tbody tr th:only-of-type {\n",
       "        vertical-align: middle;\n",
       "    }\n",
       "\n",
       "    .dataframe tbody tr th {\n",
       "        vertical-align: top;\n",
       "    }\n",
       "\n",
       "    .dataframe thead th {\n",
       "        text-align: right;\n",
       "    }\n",
       "</style>\n",
       "<table border=\"1\" class=\"dataframe\">\n",
       "  <thead>\n",
       "    <tr style=\"text-align: right;\">\n",
       "      <th></th>\n",
       "      <th>Context</th>\n",
       "      <th>Next_Sentence</th>\n",
       "      <th>is_same_paragraph</th>\n",
       "    </tr>\n",
       "  </thead>\n",
       "  <tbody>\n",
       "    <tr>\n",
       "      <th>0</th>\n",
       "      <td>[CLS] Tudo isso depende da crítica.</td>\n",
       "      <td>[CLS] Que ela apareça, convencida e resoluta, ...</td>\n",
       "      <td>0</td>\n",
       "    </tr>\n",
       "    <tr>\n",
       "      <th>1</th>\n",
       "      <td>[CLS] São óbvias as conseqüências de uma tal s...</td>\n",
       "      <td>[CLS] Tudo isso depende da crítica.</td>\n",
       "      <td>0</td>\n",
       "    </tr>\n",
       "    <tr>\n",
       "      <th>2</th>\n",
       "      <td>[CLS] O erro produzirá o erro; amortecidos os ...</td>\n",
       "      <td>[CLS] O erro produzirá o erro; amortecidos os ...</td>\n",
       "      <td>0</td>\n",
       "    </tr>\n",
       "    <tr>\n",
       "      <th>3</th>\n",
       "      <td>[CLS] Com efeito, se o crítico, na manifestaçã...</td>\n",
       "      <td>[CLS] São óbvias as conseqüências de uma tal s...</td>\n",
       "      <td>0</td>\n",
       "    </tr>\n",
       "    <tr>\n",
       "      <th>4</th>\n",
       "      <td>[CLS] Se esta reforma, que eu sonho, sem esper...</td>\n",
       "      <td>[CLS] O erro produzirá o erro; amortecidos os ...</td>\n",
       "      <td>0</td>\n",
       "    </tr>\n",
       "    <tr>\n",
       "      <th>...</th>\n",
       "      <td>...</td>\n",
       "      <td>...</td>\n",
       "      <td>...</td>\n",
       "    </tr>\n",
       "    <tr>\n",
       "      <th>1336</th>\n",
       "      <td>[CLS] São óbvias as conseqüências de uma tal s...</td>\n",
       "      <td>[CLS] As musas, privadas de um farol seguro, c...</td>\n",
       "      <td>1</td>\n",
       "    </tr>\n",
       "    <tr>\n",
       "      <th>1337</th>\n",
       "      <td>[CLS] São óbvias as conseqüências de uma tal s...</td>\n",
       "      <td>[CLS] O poeta oscilará entre as sentenças mal ...</td>\n",
       "      <td>1</td>\n",
       "    </tr>\n",
       "    <tr>\n",
       "      <th>1338</th>\n",
       "      <td>[CLS] São óbvias as conseqüências de uma tal s...</td>\n",
       "      <td>[CLS] O erro produzirá o erro; amortecidos os ...</td>\n",
       "      <td>1</td>\n",
       "    </tr>\n",
       "    <tr>\n",
       "      <th>1339</th>\n",
       "      <td>[CLS] São óbvias as conseqüências de uma tal s...</td>\n",
       "      <td>[CLS] As musas, privadas de um farol seguro, c...</td>\n",
       "      <td>1</td>\n",
       "    </tr>\n",
       "    <tr>\n",
       "      <th>1340</th>\n",
       "      <td>[CLS] As musas, privadas de um farol seguro, c...</td>\n",
       "      <td>[CLS] São óbvias as conseqüências de uma tal s...</td>\n",
       "      <td>1</td>\n",
       "    </tr>\n",
       "  </tbody>\n",
       "</table>\n",
       "<p>1341 rows × 3 columns</p>\n",
       "</div>"
      ],
      "text/plain": [
       "                                                Context  \\\n",
       "0                   [CLS] Tudo isso depende da crítica.   \n",
       "1     [CLS] São óbvias as conseqüências de uma tal s...   \n",
       "2     [CLS] O erro produzirá o erro; amortecidos os ...   \n",
       "3     [CLS] Com efeito, se o crítico, na manifestaçã...   \n",
       "4     [CLS] Se esta reforma, que eu sonho, sem esper...   \n",
       "...                                                 ...   \n",
       "1336  [CLS] São óbvias as conseqüências de uma tal s...   \n",
       "1337  [CLS] São óbvias as conseqüências de uma tal s...   \n",
       "1338  [CLS] São óbvias as conseqüências de uma tal s...   \n",
       "1339  [CLS] São óbvias as conseqüências de uma tal s...   \n",
       "1340  [CLS] As musas, privadas de um farol seguro, c...   \n",
       "\n",
       "                                          Next_Sentence is_same_paragraph  \n",
       "0     [CLS] Que ela apareça, convencida e resoluta, ...                 0  \n",
       "1                   [CLS] Tudo isso depende da crítica.                 0  \n",
       "2     [CLS] O erro produzirá o erro; amortecidos os ...                 0  \n",
       "3     [CLS] São óbvias as conseqüências de uma tal s...                 0  \n",
       "4     [CLS] O erro produzirá o erro; amortecidos os ...                 0  \n",
       "...                                                 ...               ...  \n",
       "1336  [CLS] As musas, privadas de um farol seguro, c...                 1  \n",
       "1337  [CLS] O poeta oscilará entre as sentenças mal ...                 1  \n",
       "1338  [CLS] O erro produzirá o erro; amortecidos os ...                 1  \n",
       "1339  [CLS] As musas, privadas de um farol seguro, c...                 1  \n",
       "1340  [CLS] São óbvias as conseqüências de uma tal s...                 1  \n",
       "\n",
       "[1341 rows x 3 columns]"
      ]
     },
     "execution_count": 11,
     "metadata": {},
     "output_type": "execute_result"
    }
   ],
   "source": [
    "def process_paragraph(paragraphs):\n",
    "    filtered_paragraphs = [paragraph for paragraph in paragraphs if count_sentences(paragraph) > 2]\n",
    "    filtered_paragraphs = [paragraph.replace(\"\\n\", \" \") for paragraph in filtered_paragraphs]\n",
    "    df = generate_pos_samples(filtered_paragraphs)\n",
    "    df = pd.concat([generate_neg_samples(filtered_paragraphs,df.size), df], ignore_index=True)\n",
    "    return df\n",
    "process_paragraph(paragraphs)"
   ]
  },
  {
   "cell_type": "code",
   "execution_count": 12,
   "metadata": {},
   "outputs": [],
   "source": [
    "def list_text_files(directory):\n",
    "    \"\"\"Recursively list all .txt files in the given directory and subdirectories.\"\"\"\n",
    "    text_files = []\n",
    "    for root, dirs, files in os.walk(directory):\n",
    "        for file in files:\n",
    "            if file.endswith('.txt'):\n",
    "                text_files.append(os.path.join(root, file))\n",
    "    return text_files\n",
    "files = list_text_files(directory)"
   ]
  },
  {
   "cell_type": "code",
   "execution_count": 13,
   "metadata": {},
   "outputs": [],
   "source": [
    "def process_file_chunk(files):\n",
    "    \"\"\"Process a chunk of files and return the concatenated DataFrame.\"\"\"\n",
    "    r = []\n",
    "    for file_path in files:\n",
    "        with open(file_path, 'r', encoding='utf-8') as file:\n",
    "            text = file.read()\n",
    "            paragraphs = text.split('\\n\\n')\n",
    "            r.append(process_paragraph(paragraphs))\n",
    "    return pd.concat(r, ignore_index=True)"
   ]
  },
  {
   "cell_type": "code",
   "execution_count": 14,
   "metadata": {},
   "outputs": [
    {
     "data": {
      "text/plain": [
       "20"
      ]
     },
     "execution_count": 14,
     "metadata": {},
     "output_type": "execute_result"
    }
   ],
   "source": [
    "max_threads = os.cpu_count() -1\n",
    "chunk_size = len(files) // max_threads\n",
    "\n",
    "file_chunks = [files[i * chunk_size:(i + 1) * chunk_size] for i in range(max_threads)]\n",
    "\n",
    "# If there are any remaining files, add them to the last chunk\n",
    "if len(files) % max_threads != 0:\n",
    "    file_chunks[-1].extend(files[max_threads * chunk_size:])\n",
    "\n",
    "chunk_size"
   ]
  },
  {
   "cell_type": "code",
   "execution_count": 15,
   "metadata": {},
   "outputs": [
    {
     "name": "stdout",
     "output_type": "stream",
     "text": [
      "1\n",
      "2\n",
      "3\n",
      "4\n",
      "5\n",
      "6\n",
      "7\n",
      "8\n",
      "9\n",
      "10\n",
      "11\n",
      "12\n"
     ]
    }
   ],
   "source": [
    "import concurrent.futures\n",
    "with concurrent.futures.ProcessPoolExecutor(max_workers=max_threads) as executor:\n",
    "    # Submit tasks for each chunk to the thread pool\n",
    "    futures = [executor.submit(process_file_chunk, chunk) for chunk in file_chunks]\n",
    "\n",
    "    # Collect the results from each thread\n",
    "    results = []\n",
    "    for future in concurrent.futures.as_completed(futures):\n",
    "        result = future.result()\n",
    "        results.append(result)\n",
    "        print(len(results))\n",
    "\n",
    "    # Concatenate all the DataFrames from the results\n",
    "    final_df = pd.concat(results, ignore_index=True)"
   ]
  },
  {
   "cell_type": "code",
   "execution_count": null,
   "metadata": {},
   "outputs": [
    {
     "data": {
      "text/html": [
       "<div>\n",
       "<style scoped>\n",
       "    .dataframe tbody tr th:only-of-type {\n",
       "        vertical-align: middle;\n",
       "    }\n",
       "\n",
       "    .dataframe tbody tr th {\n",
       "        vertical-align: top;\n",
       "    }\n",
       "\n",
       "    .dataframe thead th {\n",
       "        text-align: right;\n",
       "    }\n",
       "</style>\n",
       "<table border=\"1\" class=\"dataframe\">\n",
       "  <thead>\n",
       "    <tr style=\"text-align: right;\">\n",
       "      <th></th>\n",
       "      <th>Context</th>\n",
       "      <th>Next_Sentence</th>\n",
       "      <th>is_same_paragraph</th>\n",
       "    </tr>\n",
       "  </thead>\n",
       "  <tbody>\n",
       "    <tr>\n",
       "      <th>393977</th>\n",
       "      <td>[CLS] A resposta foi compelir-me fortemente a ...</td>\n",
       "      <td>[CLS] Talvez alegre.</td>\n",
       "      <td>1</td>\n",
       "    </tr>\n",
       "    <tr>\n",
       "      <th>418499</th>\n",
       "      <td>[CLS] Flora conhecia a predição da cabocla do ...</td>\n",
       "      <td>[CLS] Santos falara dela em tempo, apenas ocul...</td>\n",
       "      <td>1</td>\n",
       "    </tr>\n",
       "    <tr>\n",
       "      <th>282886</th>\n",
       "      <td>[CLS] O finado era o marido.Raquel referiu-lhe...</td>\n",
       "      <td>[CLS] Pareciam ao nosso herói; ele é que o diz...</td>\n",
       "      <td>1</td>\n",
       "    </tr>\n",
       "    <tr>\n",
       "      <th>49130</th>\n",
       "      <td>[CLS] Não lhe pergunteis, por exemplo, na 'Man...</td>\n",
       "      <td>[CLS] Homero, pela mão de Vulcano, pôs naquele...</td>\n",
       "      <td>0</td>\n",
       "    </tr>\n",
       "    <tr>\n",
       "      <th>77673</th>\n",
       "      <td>[CLS] Veste de preto, e o busto fica-lhe bem, ...</td>\n",
       "      <td>[CLS] Abana-se por distração; talvez olhe tamb...</td>\n",
       "      <td>1</td>\n",
       "    </tr>\n",
       "  </tbody>\n",
       "</table>\n",
       "</div>"
      ],
      "text/plain": [
       "                                                  Context  \\\n",
       "393977  [CLS] A resposta foi compelir-me fortemente a ...   \n",
       "418499  [CLS] Flora conhecia a predição da cabocla do ...   \n",
       "282886  [CLS] O finado era o marido.Raquel referiu-lhe...   \n",
       "49130   [CLS] Não lhe pergunteis, por exemplo, na 'Man...   \n",
       "77673   [CLS] Veste de preto, e o busto fica-lhe bem, ...   \n",
       "\n",
       "                                            Next_Sentence is_same_paragraph  \n",
       "393977                               [CLS] Talvez alegre.                 1  \n",
       "418499  [CLS] Santos falara dela em tempo, apenas ocul...                 1  \n",
       "282886  [CLS] Pareciam ao nosso herói; ele é que o diz...                 1  \n",
       "49130   [CLS] Homero, pela mão de Vulcano, pôs naquele...                 0  \n",
       "77673   [CLS] Abana-se por distração; talvez olhe tamb...                 1  "
      ]
     },
     "execution_count": 34,
     "metadata": {},
     "output_type": "execute_result"
    }
   ],
   "source": [
    "final_df.sample(100).head()"
   ]
  },
  {
   "cell_type": "code",
   "execution_count": null,
   "metadata": {},
   "outputs": [],
   "source": [
    "final_df.to_csv(\"../data/machado.csv\",index=False)"
   ]
  }
 ],
 "metadata": {
  "kernelspec": {
   "display_name": "Python 3",
   "language": "python",
   "name": "python3"
  },
  "language_info": {
   "codemirror_mode": {
    "name": "ipython",
    "version": 3
   },
   "file_extension": ".py",
   "mimetype": "text/x-python",
   "name": "python",
   "nbconvert_exporter": "python",
   "pygments_lexer": "ipython3",
   "version": "3.8.10"
  }
 },
 "nbformat": 4,
 "nbformat_minor": 2
}
